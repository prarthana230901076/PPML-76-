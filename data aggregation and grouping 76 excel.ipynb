{
 "cells": [
  {
   "cell_type": "code",
   "execution_count": 1,
   "id": "efa015ae",
   "metadata": {},
   "outputs": [
    {
     "name": "stdout",
     "output_type": "stream",
     "text": [
      "\n",
      "Original Dataframe:\n",
      "       Name category  value  score\n",
      "0    Alice        A      3     73\n",
      "1      Bob        B      1     70\n",
      "2  Charlie        A      4     78\n",
      "3    Alice        B      1     68\n",
      "4      Bob        A      1     73\n",
      "5  Charlie        B      3     69\n",
      "\n",
      "Group by name and Aggregation with one column:\n",
      "       Name  value\n",
      "0    Alice      4\n",
      "1      Bob      2\n",
      "2  Charlie      7\n"
     ]
    }
   ],
   "source": [
    "import numpy as np\n",
    "import pandas as pd\n",
    "df=pd.DataFrame({'Name':['Alice', 'Bob', 'Charlie', 'Alice', 'Bob', 'Charlie'],\n",
    "'category':['A', 'B', 'A', 'B', 'A', 'B'],\n",
    "'value':np.random.randint(1, 5, size=6),\n",
    "'score':np.random.randint(60, 100, size=6)\n",
    "})\n",
    "print(\"\\nOriginal Dataframe:\\n\",df)\n",
    "\n",
    "#Data grouping and Aggregation: with one column sum\n",
    "df1=df.groupby(('Name'),as_index=False)['value'].sum()\n",
    "print(\"\\nGroup by name and Aggregation with one column:\\n\",df1)"
   ]
  },
  {
   "cell_type": "code",
   "execution_count": 22,
   "id": "7d18e9d4",
   "metadata": {},
   "outputs": [
    {
     "name": "stdout",
     "output_type": "stream",
     "text": [
      "\n",
      "Group by name and Aggregation with two column:\n",
      "       Name  value  score\n",
      "0    Alice      4    141\n",
      "1      Bob      2    143\n",
      "2  Charlie      7    147\n"
     ]
    }
   ],
   "source": [
    "#Data grouping and Aggregation: with two column sum\n",
    "df2=df.groupby(('Name'),as_index=False)[['value','score']].sum()\n",
    "print(\"\\nGroup by name and Aggregation with two column:\\n\",df2)\n",
    "\n",
    "\n"
   ]
  },
  {
   "cell_type": "code",
   "execution_count": 3,
   "id": "5722e9aa",
   "metadata": {},
   "outputs": [
    {
     "name": "stdout",
     "output_type": "stream",
     "text": [
      "\n",
      "Group by name and Aggregation with one column using agg function:\n",
      "       Name  value\n",
      "0    Alice      4\n",
      "1      Bob      2\n",
      "2  Charlie      7\n"
     ]
    }
   ],
   "source": [
    "#Data grouping and Aggregation: with one column sum\n",
    "df3=df.groupby(('Name'),as_index=False)['value'].agg('sum')\n",
    "print(\"\\nGroup by name and Aggregation with one column using agg function:\\n\",df3)\n"
   ]
  },
  {
   "cell_type": "code",
   "execution_count": 4,
   "id": "1d577f00",
   "metadata": {},
   "outputs": [
    {
     "name": "stdout",
     "output_type": "stream",
     "text": [
      "\n",
      "Group by name and multiple Aggregation functions :\n",
      "         value              score      \n",
      "          sum mean min max   sum  mean\n",
      "Name                                  \n",
      "Alice       4  2.0   1   3   141  70.5\n",
      "Bob         2  1.0   1   1   143  71.5\n",
      "Charlie     7  3.5   3   4   147  73.5\n"
     ]
    }
   ],
   "source": [
    "#Group by 'Name' and calculate multiple aggregations\n",
    "df4 = df.groupby('Name').agg({\n",
    "'value': ['sum', 'mean', 'min', 'max'],\n",
    "'score': ['sum', 'mean']})\n",
    "\n",
    "print(\"\\nGroup by name and multiple Aggregation functions :\\n\", df4)"
   ]
  },
  {
   "cell_type": "code",
   "execution_count": 6,
   "id": "d74522f7",
   "metadata": {},
   "outputs": [
    {
     "name": "stdout",
     "output_type": "stream",
     "text": [
      "\n",
      " Group and count:\n",
      "       Name  value\n",
      "0    Alice      2\n",
      "1      Bob      2\n",
      "2  Charlie      2\n"
     ]
    }
   ],
   "source": [
    "df5=df.groupby(('Name'),as_index=False)['value'].count()\n",
    "print(\"\\n Group and count:\\n\",df5)"
   ]
  },
  {
   "cell_type": "code",
   "execution_count": 7,
   "id": "93264865",
   "metadata": {},
   "outputs": [
    {
     "name": "stdout",
     "output_type": "stream",
     "text": [
      "\n",
      " Group and count:\n",
      "          category  value  score\n",
      "Name                           \n",
      "Alice           2      2      2\n",
      "Bob             2      2      2\n",
      "Charlie         2      2      2\n"
     ]
    }
   ],
   "source": [
    "df6=df.groupby(('Name')).count()\n",
    "print(\"\\n Group and count:\\n\",df6)"
   ]
  },
  {
   "cell_type": "code",
   "execution_count": 9,
   "id": "30c7ba4b",
   "metadata": {},
   "outputs": [
    {
     "name": "stdout",
     "output_type": "stream",
     "text": [
      "\n",
      " Group and display from first:\n",
      "       Name  value\n",
      "0    Alice      3\n",
      "1      Bob      1\n",
      "2  Charlie      4\n"
     ]
    }
   ],
   "source": [
    "df7=df.groupby(('Name'),as_index=False)['value'].first()\n",
    "print(\"\\n Group and display from first:\\n\",df7)"
   ]
  },
  {
   "cell_type": "code",
   "execution_count": 10,
   "id": "02f47200",
   "metadata": {},
   "outputs": [
    {
     "name": "stdout",
     "output_type": "stream",
     "text": [
      "\n",
      " Group and display from first:\n",
      "         category  value  score\n",
      "Name                          \n",
      "Alice          A      3     73\n",
      "Bob            B      1     70\n",
      "Charlie        A      4     78\n"
     ]
    }
   ],
   "source": [
    "df8=df.groupby(('Name')).first()\n",
    "print(\"\\n Group and display from first:\\n\",df8)"
   ]
  },
  {
   "cell_type": "code",
   "execution_count": 16,
   "id": "f6aac71b",
   "metadata": {},
   "outputs": [
    {
     "name": "stdout",
     "output_type": "stream",
     "text": [
      "\n",
      " Group and display from last:\n",
      "       Name  value\n",
      "0    Alice      1\n",
      "1      Bob      1\n",
      "2  Charlie      3\n"
     ]
    }
   ],
   "source": [
    "df9=df.groupby(('Name'),as_index=False)['value'].last()\n",
    "print(\"\\n Group and display from last:\\n\",df9)"
   ]
  },
  {
   "cell_type": "code",
   "execution_count": 17,
   "id": "c0b1fab1",
   "metadata": {},
   "outputs": [
    {
     "name": "stdout",
     "output_type": "stream",
     "text": [
      "\n",
      " Group and display from last:\n",
      "         category  value  score\n",
      "Name                          \n",
      "Alice          B      1     68\n",
      "Bob            A      1     73\n",
      "Charlie        B      3     69\n"
     ]
    }
   ],
   "source": [
    "df10=df.groupby(('Name')).last()\n",
    "print(\"\\n Group and display from last:\\n\",df10)"
   ]
  },
  {
   "cell_type": "code",
   "execution_count": 20,
   "id": "be6de43f",
   "metadata": {},
   "outputs": [
    {
     "name": "stdout",
     "output_type": "stream",
     "text": [
      "\n",
      " Group and display from size:\n",
      "       Name  size\n",
      "0    Alice     2\n",
      "1      Bob     2\n",
      "2  Charlie     2\n"
     ]
    }
   ],
   "source": [
    "df11=df.groupby(('Name'),as_index=False)['value'].size()\n",
    "print(\"\\n Group and display from size:\\n\",df11)"
   ]
  },
  {
   "cell_type": "code",
   "execution_count": 21,
   "id": "8f9808c4",
   "metadata": {},
   "outputs": [
    {
     "name": "stdout",
     "output_type": "stream",
     "text": [
      "\n",
      " Group and display from last:\n",
      " Name\n",
      "Alice      2\n",
      "Bob        2\n",
      "Charlie    2\n",
      "dtype: int64\n"
     ]
    }
   ],
   "source": [
    "df12=df.groupby(('Name')).size()\n",
    "print(\"\\n Group and display from last:\\n\",df12)"
   ]
  },
  {
   "cell_type": "code",
   "execution_count": null,
   "id": "4a6cbe8b",
   "metadata": {},
   "outputs": [],
   "source": []
  }
 ],
 "metadata": {
  "kernelspec": {
   "display_name": "Python 3 (ipykernel)",
   "language": "python",
   "name": "python3"
  },
  "language_info": {
   "codemirror_mode": {
    "name": "ipython",
    "version": 3
   },
   "file_extension": ".py",
   "mimetype": "text/x-python",
   "name": "python",
   "nbconvert_exporter": "python",
   "pygments_lexer": "ipython3",
   "version": "3.11.3"
  }
 },
 "nbformat": 4,
 "nbformat_minor": 5
}
