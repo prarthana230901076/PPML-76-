{
 "cells": [
  {
   "cell_type": "code",
   "execution_count": 1,
   "id": "01a8a165",
   "metadata": {},
   "outputs": [
    {
     "name": "stdout",
     "output_type": "stream",
     "text": [
      "2025-04-07 12:22:20.339135\n"
     ]
    }
   ],
   "source": [
    "import datetime\n",
    "cd=datetime.datetime.now()\n",
    "print(cd)\n"
   ]
  },
  {
   "cell_type": "code",
   "execution_count": 2,
   "id": "4c9204eb",
   "metadata": {},
   "outputs": [
    {
     "name": "stdout",
     "output_type": "stream",
     "text": [
      "\n",
      "Two-digit year: 25\n"
     ]
    }
   ],
   "source": [
    "res=cd.strftime(\"%y\") \n",
    "print(\"\\nTwo-digit year:\", res)\n"
   ]
  },
  {
   "cell_type": "code",
   "execution_count": 3,
   "id": "53c0a636",
   "metadata": {},
   "outputs": [
    {
     "name": "stdout",
     "output_type": "stream",
     "text": [
      "\n",
      "Four-digit year: 2025\n"
     ]
    }
   ],
   "source": [
    "res1=cd.strftime(\"%Y\") \n",
    "print(\"\\nFour-digit year:\", res1)\n"
   ]
  },
  {
   "cell_type": "code",
   "execution_count": 4,
   "id": "7093272f",
   "metadata": {},
   "outputs": [
    {
     "name": "stdout",
     "output_type": "stream",
     "text": [
      "\n",
      "Two-digit month [01, 12]: 04\n"
     ]
    }
   ],
   "source": [
    "res=cd.strftime(\"%m\") \n",
    "print(\"\\nTwo-digit month [01, 12]:\",res)\n"
   ]
  },
  {
   "cell_type": "code",
   "execution_count": 5,
   "id": "f85eefa3",
   "metadata": {},
   "outputs": [
    {
     "name": "stdout",
     "output_type": "stream",
     "text": [
      "\n",
      "Short version of month Apr\n"
     ]
    }
   ],
   "source": [
    "res=cd.strftime(\"%b\")\n",
    "print(\"\\nShort version of month\", res)\n"
   ]
  },
  {
   "cell_type": "code",
   "execution_count": 6,
   "id": "cfe00438",
   "metadata": {},
   "outputs": [
    {
     "name": "stdout",
     "output_type": "stream",
     "text": [
      "\n",
      "Full name of month: April\n"
     ]
    }
   ],
   "source": [
    "res=cd.strftime(\"%B\")\n",
    "print(\"\\nFull name of month:\",res)\n"
   ]
  },
  {
   "cell_type": "code",
   "execution_count": 7,
   "id": "9537e5b5",
   "metadata": {},
   "outputs": [
    {
     "name": "stdout",
     "output_type": "stream",
     "text": [
      "\n",
      "Days of the year: 097\n"
     ]
    }
   ],
   "source": [
    "res=cd.strftime(\"%j\") \n",
    "print(\"\\nDays of the year:\", res)\n"
   ]
  },
  {
   "cell_type": "code",
   "execution_count": 9,
   "id": "6b004389",
   "metadata": {},
   "outputs": [
    {
     "name": "stdout",
     "output_type": "stream",
     "text": [
      "\n",
      "Shortcut for %m/%d/%y (e.g., 04/18/12): 04/07/25\n"
     ]
    }
   ],
   "source": [
    "\n",
    "res=cd.strftime(\"%D\") \n",
    "print(\"\\nShortcut for %m/%d/%y (e.g., 04/18/12):\", res)\n"
   ]
  },
  {
   "cell_type": "code",
   "execution_count": 10,
   "id": "0d5f7ed5",
   "metadata": {},
   "outputs": [
    {
     "name": "stdout",
     "output_type": "stream",
     "text": [
      "\n",
      "Two-digit day [01, 31]: 07\n"
     ]
    }
   ],
   "source": [
    "res=cd.strftime(\"%d\") \n",
    "print(\"\\nTwo-digit day [01, 31]:\", res)\n"
   ]
  },
  {
   "cell_type": "code",
   "execution_count": 11,
   "id": "c5f3e60a",
   "metadata": {},
   "outputs": [
    {
     "name": "stdout",
     "output_type": "stream",
     "text": [
      "\n",
      "Short version of day Mon\n"
     ]
    }
   ],
   "source": [
    "res=cd.strftime(\"%a\")\n",
    "print(\"\\nShort version of day\", res)\n"
   ]
  },
  {
   "cell_type": "code",
   "execution_count": 12,
   "id": "d1cb812b",
   "metadata": {},
   "outputs": [
    {
     "name": "stdout",
     "output_type": "stream",
     "text": [
      "\n",
      "Full name of a day: A\n"
     ]
    }
   ],
   "source": [
    "res=cd.strftime(\"A\")\n",
    "print(\"\\nFull name of a day:\", res)\n"
   ]
  },
  {
   "cell_type": "code",
   "execution_count": 13,
   "id": "8cde83fc",
   "metadata": {},
   "outputs": [
    {
     "name": "stdout",
     "output_type": "stream",
     "text": [
      "\n",
      "Hour (24-hour clock) [00, 23]: 12\n"
     ]
    }
   ],
   "source": [
    "res=cd.strftime(\"%H\") \n",
    "print(\"\\nHour (24-hour clock) [00, 23]:\",res)\n"
   ]
  },
  {
   "cell_type": "code",
   "execution_count": 14,
   "id": "8a41bf40",
   "metadata": {},
   "outputs": [
    {
     "name": "stdout",
     "output_type": "stream",
     "text": [
      "\n",
      "Hour (12-hour clock) [01, 12] 12\n"
     ]
    }
   ],
   "source": [
    "res=cd.strftime(\"%I\") \n",
    "print(\"\\nHour (12-hour clock) [01, 12]\",res)\n"
   ]
  },
  {
   "cell_type": "code",
   "execution_count": 15,
   "id": "3671f6fb",
   "metadata": {},
   "outputs": [
    {
     "name": "stdout",
     "output_type": "stream",
     "text": [
      "\n",
      "Two-digit minute [00, 59]: 22\n"
     ]
    }
   ],
   "source": [
    "res=cd.strftime(\"%M\")\n",
    "print(\"\\nTwo-digit minute [00, 59]:\", res)\n"
   ]
  },
  {
   "cell_type": "code",
   "execution_count": 16,
   "id": "a3bb4474",
   "metadata": {},
   "outputs": [
    {
     "name": "stdout",
     "output_type": "stream",
     "text": [
      "\n",
      "Second (00, 61] (seconds 60, 61 account for leap seconds): 20\n"
     ]
    }
   ],
   "source": [
    "res=cd.strftime(\"%S\")\n",
    "print(\"\\nSecond (00, 61] (seconds 60, 61 account for leap seconds):\",res)\n"
   ]
  },
  {
   "cell_type": "code",
   "execution_count": 17,
   "id": "8878ad34",
   "metadata": {},
   "outputs": [
    {
     "name": "stdout",
     "output_type": "stream",
     "text": [
      "\n",
      "Shortcut for %Y-%m-%d (eg, 2012-4-18): 2025-04-07\n"
     ]
    }
   ],
   "source": [
    "res=cd.strftime(\"%F\") \n",
    "print(\"\\nShortcut for %Y-%m-%d (eg, 2012-4-18):\",res)\n"
   ]
  },
  {
   "cell_type": "code",
   "execution_count": 18,
   "id": "909649e2",
   "metadata": {},
   "outputs": [
    {
     "name": "stdout",
     "output_type": "stream",
     "text": [
      "\n",
      "Microsecond as an integer, zero-padded (from 000000 to 999999); 339135\n"
     ]
    }
   ],
   "source": [
    "res=cd.strftime(\"%f\") \n",
    "print(\"\\nMicrosecond as an integer, zero-padded (from 000000 to 999999);\", res)\n"
   ]
  },
  {
   "cell_type": "code",
   "execution_count": 19,
   "id": "4a8920bd",
   "metadata": {},
   "outputs": [
    {
     "name": "stdout",
     "output_type": "stream",
     "text": [
      "\n",
      "Locale equivalent of AM or PM: PM\n"
     ]
    }
   ],
   "source": [
    "res=cd.strftime(\"%p\")\n",
    "print(\"\\nLocale equivalent of AM or PM:\", res)\n"
   ]
  },
  {
   "cell_type": "code",
   "execution_count": 20,
   "id": "e9b2192d",
   "metadata": {},
   "outputs": [
    {
     "name": "stdout",
     "output_type": "stream",
     "text": [
      "\n",
      "Locale-appropriate formatted date (eg, in the United States, May 1, 2012 yields '05/01/2012) 04/07/25\n"
     ]
    }
   ],
   "source": [
    "res=cd.strftime(\"%x\")\n",
    "print(\"\\nLocale-appropriate formatted date (eg, in the United States, May 1, 2012 yields '05/01/2012)\", res)\n"
   ]
  },
  {
   "cell_type": "code",
   "execution_count": 21,
   "id": "4c9140dc",
   "metadata": {},
   "outputs": [
    {
     "name": "stdout",
     "output_type": "stream",
     "text": [
      "\n",
      "Locale-appropriate time (e.g., '04:24:12 PM'): 12:22:20\n"
     ]
    }
   ],
   "source": [
    "res=cd.strftime(\"%X\")\n",
    "print(\"\\nLocale-appropriate time (e.g., '04:24:12 PM'):\",res)\n"
   ]
  },
  {
   "cell_type": "code",
   "execution_count": null,
   "id": "1e5c5e6c",
   "metadata": {},
   "outputs": [],
   "source": []
  }
 ],
 "metadata": {
  "kernelspec": {
   "display_name": "Python 3 (ipykernel)",
   "language": "python",
   "name": "python3"
  },
  "language_info": {
   "codemirror_mode": {
    "name": "ipython",
    "version": 3
   },
   "file_extension": ".py",
   "mimetype": "text/x-python",
   "name": "python",
   "nbconvert_exporter": "python",
   "pygments_lexer": "ipython3",
   "version": "3.11.3"
  }
 },
 "nbformat": 4,
 "nbformat_minor": 5
}
