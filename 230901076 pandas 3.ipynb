{
  "cells": [
    {
      "cell_type": "code",
      "execution_count": 1,
      "id": "94c39e64",
      "metadata": {
        "colab": {
          "base_uri": "https://localhost:8080/"
        },
        "id": "94c39e64",
        "outputId": "3798d195-fc4b-4996-b999-c7b721738750"
      },
      "outputs": [
        {
          "output_type": "stream",
          "name": "stdout",
          "text": [
            "Series from array\n",
            "0    s\n",
            "1    a\n",
            "2    b\n",
            "3    r\n",
            "4    i\n",
            "5    e\n",
            "6    g\n",
            "dtype: object\n"
          ]
        }
      ],
      "source": [
        "import pandas as pd\n",
        "import numpy as np\n",
        "arr=np.array(['s','a','b','r','i','e','g'])\n",
        "a=pd.Series(arr)\n",
        "print(\"Series from array\")\n",
        "print(a)"
      ]
    },
    {
      "cell_type": "code",
      "execution_count": 2,
      "id": "6a7eb468",
      "metadata": {
        "colab": {
          "base_uri": "https://localhost:8080/"
        },
        "id": "6a7eb468",
        "outputId": "2789b534-aabc-4cca-a0fd-7789dec85354"
      },
      "outputs": [
        {
          "output_type": "stream",
          "name": "stdout",
          "text": [
            "\n",
            " Series from dictonary:\n",
            "\n",
            "a    0\n",
            "b    1\n",
            "c    2\n",
            "dtype: int64\n"
          ]
        }
      ],
      "source": [
        "arr={'a':0,'b':1,'c':2}\n",
        "b=pd.Series(arr)\n",
        "print(\"\\n Series from dictonary:\\n\")\n",
        "print(b)"
      ]
    },
    {
      "cell_type": "code",
      "execution_count": 3,
      "id": "186502b4",
      "metadata": {
        "colab": {
          "base_uri": "https://localhost:8080/"
        },
        "id": "186502b4",
        "outputId": "26c94100-5bf2-4d57-c08b-e0fb813c01a1"
      },
      "outputs": [
        {
          "output_type": "stream",
          "name": "stdout",
          "text": [
            "\n",
            " Series using Scalar\n",
            "\n",
            "0    4\n",
            "1    4\n",
            "2    4\n",
            "3    4\n",
            "dtype: int64\n"
          ]
        }
      ],
      "source": [
        "x=pd.Series(4,index=[0,1,2,3])\n",
        "print(\"\\n Series using Scalar\\n\")\n",
        "print(x)"
      ]
    },
    {
      "cell_type": "code",
      "execution_count": 4,
      "id": "d238f704",
      "metadata": {
        "colab": {
          "base_uri": "https://localhost:8080/"
        },
        "id": "d238f704",
        "outputId": "0df599d4-0bce-4173-eb5c-e8096892568a"
      },
      "outputs": [
        {
          "output_type": "stream",
          "name": "stdout",
          "text": [
            "\n",
            " a.Series:\n",
            " 0    s\n",
            "1    a\n",
            "2    b\n",
            "3    r\n",
            "4    i\n",
            "5    e\n",
            "6    g\n",
            "dtype: object\n",
            "\n",
            " index:\n",
            " RangeIndex(start=0, stop=7, step=1)\n",
            "\n",
            " Values:\n",
            " ['s' 'a' 'b' 'r' 'i' 'e' 'g']\n",
            "\n",
            " shape:\n",
            " (7,)\n",
            "\n",
            " dimension:\n",
            " 1\n",
            "\n",
            " size:\n",
            " 7\n"
          ]
        }
      ],
      "source": [
        "print(\"\\n a.Series:\\n\",a)\n",
        "print(\"\\n index:\\n\",a.index)\n",
        "print(\"\\n Values:\\n\",a.values)\n",
        "print(\"\\n shape:\\n\",a.shape)\n",
        "print(\"\\n dimension:\\n\",a.ndim)\n",
        "print(\"\\n size:\\n\",a.size)"
      ]
    },
    {
      "cell_type": "code",
      "execution_count": 4,
      "id": "92d8874b",
      "metadata": {
        "id": "92d8874b"
      },
      "outputs": [],
      "source": []
    }
  ],
  "metadata": {
    "kernelspec": {
      "display_name": "Python 3 (ipykernel)",
      "language": "python",
      "name": "python3"
    },
    "language_info": {
      "codemirror_mode": {
        "name": "ipython",
        "version": 3
      },
      "file_extension": ".py",
      "mimetype": "text/x-python",
      "name": "python",
      "nbconvert_exporter": "python",
      "pygments_lexer": "ipython3",
      "version": "3.11.4"
    },
    "colab": {
      "provenance": []
    }
  },
  "nbformat": 4,
  "nbformat_minor": 5
}