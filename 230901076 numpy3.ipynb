{
  "nbformat": 4,
  "nbformat_minor": 0,
  "metadata": {
    "colab": {
      "provenance": []
    },
    "kernelspec": {
      "name": "python3",
      "display_name": "Python 3"
    },
    "language_info": {
      "name": "python"
    }
  },
  "cells": [
    {
      "cell_type": "code",
      "execution_count": 6,
      "metadata": {
        "colab": {
          "base_uri": "https://localhost:8080/"
        },
        "id": "HfkwlBNxWnaC",
        "outputId": "0d0b5a6f-ae7c-49e1-e8ed-cbc6b869b7a3"
      },
      "outputs": [
        {
          "output_type": "stream",
          "name": "stdout",
          "text": [
            "(array([1, 4]),) int64\n"
          ]
        }
      ],
      "source": [
        "import numpy as np\n",
        "arr=np.array([1,6,2,7,6,4])\n",
        "x=np.where(arr==6)\n",
        "print(x,arr.dtype)"
      ]
    },
    {
      "cell_type": "code",
      "source": [
        "x1=np.where(arr%2==0)\n",
        "print(x1)"
      ],
      "metadata": {
        "colab": {
          "base_uri": "https://localhost:8080/"
        },
        "id": "1DrUSO9eW2S4",
        "outputId": "5163e074-0e45-4375-aaaf-7ed66648c263"
      },
      "execution_count": 7,
      "outputs": [
        {
          "output_type": "stream",
          "name": "stdout",
          "text": [
            "(array([1, 2, 4, 5]),)\n"
          ]
        }
      ]
    },
    {
      "cell_type": "code",
      "source": [
        "arr=np.array([0,1,2,2,7,8,9])\n",
        "x2=np.searchsorted(arr,3,side='left')\n",
        "print(x2)"
      ],
      "metadata": {
        "colab": {
          "base_uri": "https://localhost:8080/"
        },
        "id": "l-xLGfYVW5DB",
        "outputId": "dedcc66a-e06d-42a3-81c0-de8dc649526f"
      },
      "execution_count": 8,
      "outputs": [
        {
          "output_type": "stream",
          "name": "stdout",
          "text": [
            "4\n"
          ]
        }
      ]
    },
    {
      "cell_type": "code",
      "source": [
        "arr=np.array([0,1,5,3,6,7,2])\n",
        "x1=np.searchsorted(arr,3,side='left')\n",
        "print(x1)"
      ],
      "metadata": {
        "colab": {
          "base_uri": "https://localhost:8080/"
        },
        "id": "YwfdonB6W7By",
        "outputId": "ac60e1cc-3b68-4ebc-d2cb-61dd89b8b9f3"
      },
      "execution_count": null,
      "outputs": [
        {
          "output_type": "stream",
          "name": "stdout",
          "text": [
            "2\n"
          ]
        }
      ]
    },
    {
      "cell_type": "code",
      "source": [
        "x3=np.searchsorted(arr,8,side='right')\n",
        "print(x3)"
      ],
      "metadata": {
        "colab": {
          "base_uri": "https://localhost:8080/"
        },
        "id": "aIw-jRurW9ZV",
        "outputId": "7408bcf9-e033-4fe0-c8e5-628d4e406cac"
      },
      "execution_count": 9,
      "outputs": [
        {
          "output_type": "stream",
          "name": "stdout",
          "text": [
            "6\n"
          ]
        }
      ]
    },
    {
      "cell_type": "code",
      "source": [
        "arr=np.array([9,5,2,7,6,4])\n",
        "print(np.sort(arr))"
      ],
      "metadata": {
        "colab": {
          "base_uri": "https://localhost:8080/"
        },
        "id": "XRv8G9bxXBPq",
        "outputId": "6d123af6-7b2c-4be5-fd84-87a88688b4cc"
      },
      "execution_count": 10,
      "outputs": [
        {
          "output_type": "stream",
          "name": "stdout",
          "text": [
            "[2 4 5 6 7 9]\n"
          ]
        }
      ]
    },
    {
      "cell_type": "code",
      "source": [
        "arr=np.array([[7,4,9],[9,1,4]])\n",
        "print(np.sort(arr))"
      ],
      "metadata": {
        "colab": {
          "base_uri": "https://localhost:8080/"
        },
        "id": "gwEZbECzXHTr",
        "outputId": "7ff09942-4515-4ed4-e64a-38bed097bf9b"
      },
      "execution_count": 11,
      "outputs": [
        {
          "output_type": "stream",
          "name": "stdout",
          "text": [
            "[[4 7 9]\n",
            " [1 4 9]]\n"
          ]
        }
      ]
    },
    {
      "cell_type": "code",
      "source": [
        "arr=np.array([51,78,68,88])\n",
        "x=[False,True,True,False]\n",
        "filter_arr=arr>70\n",
        "newarr=arr[filter_arr]\n",
        "print(filter_arr)\n",
        "print(newarr)"
      ],
      "metadata": {
        "colab": {
          "base_uri": "https://localhost:8080/"
        },
        "id": "R4QcGCBSXLVB",
        "outputId": "ccd720ee-65e4-435b-e7db-29134e720f90"
      },
      "execution_count": 12,
      "outputs": [
        {
          "output_type": "stream",
          "name": "stdout",
          "text": [
            "[False  True False  True]\n",
            "[78 88]\n"
          ]
        }
      ]
    }
  ]
}