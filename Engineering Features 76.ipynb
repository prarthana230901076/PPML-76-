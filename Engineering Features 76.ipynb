{
 "cells": [
  {
   "cell_type": "code",
   "execution_count": 2,
   "id": "ff493dbb",
   "metadata": {},
   "outputs": [
    {
     "name": "stdout",
     "output_type": "stream",
     "text": [
      "Before:\n",
      "\n",
      "    Age\n",
      "0    42\n",
      "1    15\n",
      "2    67\n",
      "3    55\n",
      "4     1\n",
      "5    29\n",
      "6    75\n",
      "7    89\n",
      "8     4\n",
      "9    10\n",
      "10   15\n",
      "11   38\n",
      "12   22\n",
      "13   77\n",
      "After:\n",
      "\n",
      "    Age         Label\n",
      "0    42         Adult\n",
      "1    15         Child\n",
      "2    67       Elderly\n",
      "3    55         Adult\n",
      "4     1  Baby/Toddler\n",
      "5    29         Adult\n",
      "6    75       Elderly\n",
      "7    89       Elderly\n",
      "8     4         Child\n",
      "9    10         Child\n",
      "10   15         Child\n",
      "11   38         Adult\n",
      "12   22         Adult\n",
      "13   77       Elderly\n",
      "Categories:\n",
      "\n",
      "Adult           5\n",
      "Child           4\n",
      "Elderly         4\n",
      "Baby/Toddler    1\n",
      "Name: Label, dtype: int64\n"
     ]
    }
   ],
   "source": [
    "import pandas as pd\n",
    "import numpy as np\n",
    "df=pd.DataFrame({'Age':[42,15,67,55,1,29,75,89,4,10,15,38,22,77]})\n",
    "print(\"Before:\\n\")\n",
    "print(df)\n",
    "df['Label']=pd.cut(x=df['Age'],bins=[0,3,17,63,99],labels=['Baby/Toddler','Child','Adult','Elderly'])\n",
    "print(\"After:\\n\")\n",
    "print(df)\n",
    "print(\"Categories:\\n\")\n",
    "print(df['Label'].value_counts())"
   ]
  },
  {
   "cell_type": "code",
   "execution_count": 3,
   "id": "839398c0",
   "metadata": {},
   "outputs": [
    {
     "name": "stdout",
     "output_type": "stream",
     "text": [
      "Before:\n",
      "    Height\n",
      "0    150.4\n",
      "1    157.6\n",
      "2    170.0\n",
      "3    176.0\n",
      "4    164.2\n",
      "5    155.0\n",
      "6    159.2\n",
      "7    175.0\n",
      "8    162.4\n",
      "9    176.0\n",
      "10   153.0\n",
      "11   170.9\n",
      "After:\n",
      "    Height    Label\n",
      "0    150.4    Short\n",
      "1    157.6  Average\n",
      "2    170.0     Tall\n",
      "3    176.0     Tall\n",
      "4    164.2  Average\n",
      "5    155.0    Short\n",
      "6    159.2  Average\n",
      "7    175.0     Tall\n",
      "8    162.4  Average\n",
      "9    176.0     Tall\n",
      "10   153.0    Short\n",
      "11   170.9     Tall\n",
      "Categories:\n",
      "Tall       5\n",
      "Average    4\n",
      "Short      3\n",
      "Name: Label, dtype: int64\n"
     ]
    }
   ],
   "source": [
    "import pandas as pd\n",
    "import numpy as np\n",
    "df=pd.DataFrame({'Height':[150.4,157.6,170,176,164.2,155,159.2,175,162.4,176,153,170.9]})\n",
    "print(\"Before:\")\n",
    "print(df)\n",
    "df['Label']=pd.cut(x=df['Height'],bins=[150,157,169,180],labels=['Short','Average','Tall'])\n",
    "print(\"After:\")\n",
    "print(df)\n",
    "print(\"Categories:\")\n",
    "print(df['Label'].value_counts())"
   ]
  },
  {
   "cell_type": "code",
   "execution_count": null,
   "id": "585a6e0f",
   "metadata": {},
   "outputs": [],
   "source": []
  }
 ],
 "metadata": {
  "kernelspec": {
   "display_name": "Python 3 (ipykernel)",
   "language": "python",
   "name": "python3"
  },
  "language_info": {
   "codemirror_mode": {
    "name": "ipython",
    "version": 3
   },
   "file_extension": ".py",
   "mimetype": "text/x-python",
   "name": "python",
   "nbconvert_exporter": "python",
   "pygments_lexer": "ipython3",
   "version": "3.11.3"
  }
 },
 "nbformat": 4,
 "nbformat_minor": 5
}
