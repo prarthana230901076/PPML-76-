{
 "cells": [
  {
   "cell_type": "code",
   "execution_count": 7,
   "id": "899ad7d2",
   "metadata": {},
   "outputs": [
    {
     "name": "stdout",
     "output_type": "stream",
     "text": [
      "\n",
      " original DataFrame\n",
      "        Brand  Year  Sold\n",
      "0     Maruti  2010     6\n",
      "1     Maruti  2011     7\n",
      "2     Maruti  2009     9\n",
      "3    Hyundai  2011     8\n",
      "4    Hyundai  2012     3\n",
      "5     Toyota  2011     5\n",
      "6   Mahindra  2013     2\n",
      "7   Mahindra  2010     8\n",
      "8       Ford  2011     7\n",
      "9     Toyota  2012     2\n",
      "10      Ford  2013     4\n",
      "\n",
      " Group by year:\n",
      "      Brand  Year  Sold\n",
      "1   Maruti  2011     7\n",
      "3  Hyundai  2011     8\n",
      "5   Toyota  2011     5\n",
      "8     Ford  2011     7\n"
     ]
    }
   ],
   "source": [
    "import pandas as pd\n",
    "car_selling_data={'Brand':['Maruti','Maruti','Maruti','Hyundai','Hyundai','Toyota','Mahindra','Mahindra','Ford','Toyota','Ford'],'Year':[2010,2011,2009,2011,2012,2011,2013,2010,2011,2012,2013],'Sold':[6,7,9,8,3,5,2,8,7,2,4]}\n",
    "df=pd.DataFrame(car_selling_data)\n",
    "print('\\n original DataFrame\\n',df)\n",
    "grouped=df.groupby('Year')\n",
    "print('\\n Group by year:\\n',grouped.get_group(2011))"
   ]
  },
  {
   "cell_type": "code",
   "execution_count": 4,
   "id": "6cd2a804",
   "metadata": {},
   "outputs": [
    {
     "name": "stdout",
     "output_type": "stream",
     "text": [
      "\n",
      " Original DataFrame\n",
      "        Name  Roll_no               Email\n",
      "0        Np       20        NP@gmail.com\n",
      "1   Preetha       25   Preetha@gmail.com\n",
      "2    Rakesh       20    Rakesh@gmail.com\n",
      "3   Prathap       32   Prathap@gmail.com\n",
      "4      Raji       69      Raji@gmail.com\n",
      "5      Subi       32      Subi@gmail.com\n",
      "6    Sachin       20    Sachin@gmail.com\n",
      "7  Karthiga       35  Karthiga@gmail.com\n",
      "8     Kalai       69     Kalai@gmail.com\n",
      "9     Ramki       17     Ramki@gmail.com\n",
      "\n",
      " Removed dulipcate rows:\n",
      "        Name  Roll_no               Email\n",
      "0        Np       20        NP@gmail.com\n",
      "1   Preetha       25   Preetha@gmail.com\n",
      "3   Prathap       32   Prathap@gmail.com\n",
      "4      Raji       69      Raji@gmail.com\n",
      "7  Karthiga       35  Karthiga@gmail.com\n",
      "9     Ramki       17     Ramki@gmail.com\n"
     ]
    }
   ],
   "source": [
    "student_data={'Name':['Np','Preetha','Rakesh','Prathap','Raji','Subi','Sachin','Karthiga','Kalai','Ramki'],'Roll_no':[20,25,20,32,69,32,20,35,69,17],'Email':['NP@gmail.com','Preetha@gmail.com','Rakesh@gmail.com','Prathap@gmail.com','Raji@gmail.com','Subi@gmail.com','Sachin@gmail.com','Karthiga@gmail.com','Kalai@gmail.com','Ramki@gmail.com']}\n",
    "df=pd.DataFrame(student_data)\n",
    "print('\\n Original DataFrame\\n',df)\n",
    "non_duplicate=df[~df.duplicated('Roll_no')]\n",
    "print('\\n Removed dulipcate rows:\\n',non_duplicate)"
   ]
  },
  {
   "cell_type": "code",
   "execution_count": 6,
   "id": "ad8de2ac",
   "metadata": {},
   "outputs": [
    {
     "name": "stdout",
     "output_type": "stream",
     "text": [
      "Original DataFrame1\n",
      "     ID  Name Branch\n",
      "0  101  Arun   Mech\n",
      "1  102  Pavi   Mech\n",
      "2  103   Sai    ECE\n",
      "3  104   Poo    EEE\n",
      "4  105  Ravi    CSE\n",
      "5  106   Anu    EEE\n",
      "6  107  Jack    CSE\n",
      "7  108  Amit     IT\n",
      "8  109   Ria    ECE\n",
      "9  110  Savi   CSBS\n",
      "Original DataFrame2\n",
      "     ID Pending\n",
      "0  101    5000\n",
      "1  102     250\n",
      "2  103     NIL\n",
      "3  104    6500\n",
      "4  105    7200\n",
      "5  106    2800\n",
      "6  107     NIL\n",
      "7  108     300\n",
      "8  109    5010\n",
      "9  110    4520\n",
      "Merged DataFrame\n",
      "     ID  Name Branch Pending\n",
      "0  101  Arun   Mech    5000\n",
      "1  102  Pavi   Mech     250\n",
      "2  103   Sai    ECE     NIL\n",
      "3  104   Poo    EEE    6500\n",
      "4  105  Ravi    CSE    7200\n",
      "5  106   Anu    EEE    2800\n",
      "6  107  Jack    CSE     NIL\n",
      "7  108  Amit     IT     300\n",
      "8  109   Ria    ECE    5010\n",
      "9  110  Savi   CSBS    4520\n"
     ]
    }
   ],
   "source": [
    "details=pd.DataFrame({'ID':[101,102,103,104,105,106,107,108,109,110],'Name':['Arun','Pavi','Sai','Poo','Ravi','Anu','Jack','Amit','Ria','Savi'],'Branch':['Mech','Mech','ECE','EEE','CSE','EEE','CSE','IT','ECE','CSBS']})\n",
    "print('Original DataFrame1\\n',details)\n",
    "fees_status=pd.DataFrame({'ID':[101,102,103,104,105,106,107,108,109,110],'Pending':['5000','250','NIL','6500','7200','2800','NIL','300','5010','4520']})\n",
    "print('Original DataFrame2\\n',fees_status)\n",
    "print('Merged DataFrame\\n',pd.merge(details,fees_status,on='ID'))"
   ]
  },
  {
   "cell_type": "code",
   "execution_count": null,
   "id": "e0266276",
   "metadata": {},
   "outputs": [],
   "source": []
  }
 ],
 "metadata": {
  "kernelspec": {
   "display_name": "Python 3 (ipykernel)",
   "language": "python",
   "name": "python3"
  },
  "language_info": {
   "codemirror_mode": {
    "name": "ipython",
    "version": 3
   },
   "file_extension": ".py",
   "mimetype": "text/x-python",
   "name": "python",
   "nbconvert_exporter": "python",
   "pygments_lexer": "ipython3",
   "version": "3.11.3"
  }
 },
 "nbformat": 4,
 "nbformat_minor": 5
}
