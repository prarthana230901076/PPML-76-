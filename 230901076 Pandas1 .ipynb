{
  "nbformat": 4,
  "nbformat_minor": 0,
  "metadata": {
    "colab": {
      "provenance": []
    },
    "kernelspec": {
      "name": "python3",
      "display_name": "Python 3"
    },
    "language_info": {
      "name": "python"
    }
  },
  "cells": [
    {
      "cell_type": "code",
      "execution_count": 55,
      "metadata": {
        "colab": {
          "base_uri": "https://localhost:8080/"
        },
        "id": "rdO0CC6QaSZD",
        "outputId": "ed6c39ea-60d0-4cb5-e256-b9a1212eb2a9"
      },
      "outputs": [
        {
          "output_type": "stream",
          "name": "stdout",
          "text": [
            "Empty DataFrame\n",
            "Columns: []\n",
            "Index: []\n"
          ]
        }
      ],
      "source": [
        "import pandas as pd\n",
        "df=pd.DataFrame()\n",
        "print(df)"
      ]
    },
    {
      "cell_type": "code",
      "source": [
        "import pandas as pd\n",
        "emp=pd.Series(['Dharun','Sudeep','Siva','Yash','Ravi'])\n",
        "id=pd.Series([80,90,28,57,49])\n",
        "frame={'Emp':emp,'ID':id}\n",
        "res=pd.DataFrame(frame)\n",
        "print(\"\\nseries to Dataframe\\n\")\n",
        "print(res)"
      ],
      "metadata": {
        "colab": {
          "base_uri": "https://localhost:8080/"
        },
        "id": "KD6igY5famdr",
        "outputId": "2fb9cf3e-9396-4bd6-dc3c-764c2ca44637"
      },
      "execution_count": 56,
      "outputs": [
        {
          "output_type": "stream",
          "name": "stdout",
          "text": [
            "\n",
            "series to Dataframe\n",
            "\n",
            "      Emp  ID\n",
            "0  Dharun  80\n",
            "1  Sudeep  90\n",
            "2    Siva  28\n",
            "3    Yash  57\n",
            "4    Ravi  49\n"
          ]
        }
      ]
    },
    {
      "cell_type": "code",
      "source": [
        "print(\"\\n Extracting one column\\n\")\n",
        "print(res['Emp'])"
      ],
      "metadata": {
        "colab": {
          "base_uri": "https://localhost:8080/"
        },
        "id": "lCzhg5xra-Kr",
        "outputId": "7ef85af2-0067-45b1-ccf6-47068e0c1fce"
      },
      "execution_count": 57,
      "outputs": [
        {
          "output_type": "stream",
          "name": "stdout",
          "text": [
            "\n",
            " Extracting one column\n",
            "\n",
            "0    Dharun\n",
            "1    Sudeep\n",
            "2      Siva\n",
            "3      Yash\n",
            "4      Ravi\n",
            "Name: Emp, dtype: object\n"
          ]
        }
      ]
    },
    {
      "cell_type": "code",
      "source": [
        "print('\\nAdding one column:\\n')\n",
        "res['ID']=pd.Series([80,90,28,56,89])\n",
        "res['Age']=pd.Series([29,30,31,33,28])\n",
        "print(res)"
      ],
      "metadata": {
        "colab": {
          "base_uri": "https://localhost:8080/"
        },
        "id": "yxjsjUlEbBcy",
        "outputId": "aa55329f-4050-498a-b65b-a5d388fa5ab4"
      },
      "execution_count": 58,
      "outputs": [
        {
          "output_type": "stream",
          "name": "stdout",
          "text": [
            "\n",
            "Adding one column:\n",
            "\n",
            "      Emp  ID  Age\n",
            "0  Dharun  80   29\n",
            "1  Sudeep  90   30\n",
            "2    Siva  28   31\n",
            "3    Yash  56   33\n",
            "4    Ravi  89   28\n"
          ]
        }
      ]
    },
    {
      "cell_type": "code",
      "source": [
        "print(\"\\n Deleting new column \\n\")\n",
        "del res['Age']\n",
        "print(res)"
      ],
      "metadata": {
        "colab": {
          "base_uri": "https://localhost:8080/"
        },
        "id": "wccBEFowbZz2",
        "outputId": "d9bc4cfd-63c4-4fbb-d205-9e89dc9aea5e"
      },
      "execution_count": 59,
      "outputs": [
        {
          "output_type": "stream",
          "name": "stdout",
          "text": [
            "\n",
            " Deleting new column \n",
            "\n",
            "      Emp  ID\n",
            "0  Dharun  80\n",
            "1  Sudeep  90\n",
            "2    Siva  28\n",
            "3    Yash  56\n",
            "4    Ravi  89\n"
          ]
        }
      ]
    },
    {
      "cell_type": "code",
      "source": [
        "print('\\n Extracting the second row: \\n')\n",
        "print(res.loc[1])"
      ],
      "metadata": {
        "colab": {
          "base_uri": "https://localhost:8080/"
        },
        "id": "Cifmiu9KbnVZ",
        "outputId": "02b2bd2f-d7b7-48b9-8719-2f215fd5c57d"
      },
      "execution_count": 60,
      "outputs": [
        {
          "output_type": "stream",
          "name": "stdout",
          "text": [
            "\n",
            " Extracting the second row: \n",
            "\n",
            "Emp    Sudeep\n",
            "ID         90\n",
            "Name: 1, dtype: object\n"
          ]
        }
      ]
    },
    {
      "cell_type": "code",
      "source": [
        "print(\"Slice rows :\\n\",res[1:4])"
      ],
      "metadata": {
        "colab": {
          "base_uri": "https://localhost:8080/"
        },
        "id": "S-0Q1C6icBXP",
        "outputId": "f11e3872-2ac3-427f-e46d-83ffe90d9423"
      },
      "execution_count": 61,
      "outputs": [
        {
          "output_type": "stream",
          "name": "stdout",
          "text": [
            "Slice rows :\n",
            "       Emp  ID\n",
            "1  Sudeep  90\n",
            "2    Siva  28\n",
            "3    Yash  56\n"
          ]
        }
      ]
    },
    {
      "cell_type": "code",
      "source": [
        "d2=pd.DataFrame([['Vicky',100],['Rashid',109]],columns=['Emp','ID'])\n",
        "print(\"\\n Adding new row values : \\n\",pd.concat([res,d2]))"
      ],
      "metadata": {
        "colab": {
          "base_uri": "https://localhost:8080/"
        },
        "id": "z_fAsoI8cD0B",
        "outputId": "fb85c361-51d7-42c1-9f0b-245a2b10cd76"
      },
      "execution_count": 64,
      "outputs": [
        {
          "output_type": "stream",
          "name": "stdout",
          "text": [
            "\n",
            " Adding new row values : \n",
            "       Emp   ID\n",
            "0  Dharun   80\n",
            "1  Sudeep   90\n",
            "2    Siva   28\n",
            "3    Yash   56\n",
            "4    Ravi   89\n",
            "0   Vicky  100\n",
            "1  Rashid  109\n"
          ]
        }
      ]
    },
    {
      "cell_type": "code",
      "source": [
        "print(\"\\n Detelting particular row:\\n\",res.drop(2))"
      ],
      "metadata": {
        "colab": {
          "base_uri": "https://localhost:8080/"
        },
        "id": "kKPNjNgWcGZ2",
        "outputId": "f9ed8199-739a-4c3b-d1e9-b0527cd098b5"
      },
      "execution_count": 63,
      "outputs": [
        {
          "output_type": "stream",
          "name": "stdout",
          "text": [
            "\n",
            " Detelting particular row:\n",
            "       Emp  ID\n",
            "0  Dharun  80\n",
            "1  Sudeep  90\n",
            "3    Yash  56\n",
            "4    Ravi  89\n"
          ]
        }
      ]
    }
  ]
}