{
 "cells": [
  {
   "cell_type": "code",
   "execution_count": 3,
   "id": "a345d94c",
   "metadata": {},
   "outputs": [
    {
     "name": "stdout",
     "output_type": "stream",
     "text": [
      "Original DataFrame with Nan\n",
      "         one       two     three\n",
      "a -0.361117 -0.841650  0.784901\n",
      "b       NaN       NaN       NaN\n",
      "c  0.943670 -0.687608 -0.220757\n",
      "d       NaN       NaN       NaN\n",
      "e -0.578786 -0.213829  0.323374\n",
      "f  0.048437 -0.256097  0.470755\n",
      "/n\n",
      "Dropped DataFrame\n",
      "         one       two     three\n",
      "a -0.361117 -0.841650  0.784901\n",
      "c  0.943670 -0.687608 -0.220757\n",
      "e -0.578786 -0.213829  0.323374\n",
      "f  0.048437 -0.256097  0.470755\n",
      "/n\n"
     ]
    }
   ],
   "source": [
    "import pandas as pd\n",
    "import numpy as np\n",
    "df=pd.DataFrame(np.random.randn(4,3), index=['a','c','e','f'],columns=['one','two','three'])\n",
    "df=df.reindex(['a','b','c','d','e','f'])\n",
    "print(\"Original DataFrame with Nan\\n\",df)\n",
    "print(\"/n\")\n",
    "print(\"Dropped DataFrame\\n\",df.dropna())\n",
    "print(\"/n\")"
   ]
  },
  {
   "cell_type": "code",
   "execution_count": 1,
   "id": "9fbe67c1",
   "metadata": {},
   "outputs": [
    {
     "name": "stdout",
     "output_type": "stream",
     "text": [
      "Original DataFrame:\n",
      "         one       two     three\n",
      "a  1.800309 -0.658238 -0.529029\n",
      "b       NaN       NaN       NaN\n",
      "c -0.098078 -0.938002  0.270085\n",
      "\n",
      "\n",
      "NaN replaced with '0':\n",
      "\n",
      "        one       two     three\n",
      "a  1.800309 -0.658238 -0.529029\n",
      "b  0.000000  0.000000  0.000000\n",
      "c -0.098078 -0.938002  0.270085\n"
     ]
    }
   ],
   "source": [
    "import pandas as pd\n",
    "import numpy as np\n",
    "df=pd.DataFrame(np.random.randn(4,3),index=['a','c','d','f'],columns=['one','two','three'])\n",
    "df=df.reindex(['a','b','c'])\n",
    "print(\"Original DataFrame:\\n\",df)\n",
    "print(\"\\n\")\n",
    "print(\"NaN replaced with '0':\\n\")\n",
    "print(df.fillna(0))\n"
   ]
  },
  {
   "cell_type": "code",
   "execution_count": 2,
   "id": "96ce9adb",
   "metadata": {},
   "outputs": [
    {
     "name": "stdout",
     "output_type": "stream",
     "text": [
      "Original DataFrame:\n",
      "    one  two\n",
      "0   10   60\n",
      "1   20   70\n",
      "2   30   80\n",
      "3   40   90\n",
      "4   50  100\n",
      "\n",
      " DataFrame with replaced values:\n",
      "\n",
      "   one  two\n",
      "0    5   60\n",
      "1   20   70\n",
      "2   30   80\n",
      "3   40   90\n",
      "4   50  100\n"
     ]
    }
   ],
   "source": [
    "df=pd.DataFrame({'one':[10,20,30,40,50],'two':[60,70,80,90,100]})\n",
    "print(\"Original DataFrame:\\n\",df)\n",
    "print(\"\\n DataFrame with replaced values:\\n\")\n",
    "print(df.replace({10:5,8:3}))"
   ]
  },
  {
   "cell_type": "code",
   "execution_count": 4,
   "id": "2a805e7b",
   "metadata": {},
   "outputs": [
    {
     "name": "stdout",
     "output_type": "stream",
     "text": [
      "Original DataFrame:\n",
      "         one       two     three\n",
      "a  1.120385  0.688046  0.377908\n",
      "b       NaN       NaN       NaN\n",
      "c  0.398378 -1.921507 -1.015655\n",
      "d  0.921517 -0.699460 -0.009526\n",
      "e       NaN       NaN       NaN\n",
      "f  1.546860  4.648597  1.014652\n",
      "\n",
      " NaN_with True fill:\n",
      "\n",
      "a    False\n",
      "b     True\n",
      "c    False\n",
      "d    False\n",
      "e     True\n",
      "f    False\n",
      "Name: one, dtype: bool\n"
     ]
    }
   ],
   "source": [
    "df=pd.DataFrame(np.random.randn(4,3),index=['a','c','d','f'],columns=['one','two','three'])\n",
    "df=df.reindex(['a','b','c','d','e','f'])\n",
    "print(\"Original DataFrame:\\n\",df)\n",
    "print(\"\\n NaN_with True fill:\\n\")\n",
    "print(df['one'].isnull())"
   ]
  },
  {
   "cell_type": "code",
   "execution_count": 5,
   "id": "7c642a53",
   "metadata": {},
   "outputs": [
    {
     "name": "stdout",
     "output_type": "stream",
     "text": [
      "Original DataFrame:\n",
      "         one       two     three\n",
      "a  1.302556 -0.125830 -1.507065\n",
      "b       NaN       NaN       NaN\n",
      "c  1.040650 -0.132073 -0.247143\n",
      "d  0.668526  0.047270 -1.701502\n",
      "e       NaN       NaN       NaN\n",
      "f  0.280216 -0.335370  1.377877\n",
      "\n",
      "  NaN_Filled with Background values:\n",
      "\n",
      "        one       two     three\n",
      "a  1.302556 -0.125830 -1.507065\n",
      "b  1.040650 -0.132073 -0.247143\n",
      "c  1.040650 -0.132073 -0.247143\n",
      "d  0.668526  0.047270 -1.701502\n",
      "e  0.280216 -0.335370  1.377877\n",
      "f  0.280216 -0.335370  1.377877\n"
     ]
    }
   ],
   "source": [
    "df=pd.DataFrame(np.random.randn(4,3),index=['a','c','d','f'],columns=['one','two','three'])\n",
    "df=df.reindex(['a','b','c','d','e','f'])\n",
    "print(\"Original DataFrame:\\n\",df)\n",
    "print(\"\\n  NaN_Filled with Background values:\\n\")\n",
    "print(df.fillna(method='bfill'))"
   ]
  },
  {
   "cell_type": "code",
   "execution_count": 6,
   "id": "ad8955de",
   "metadata": {},
   "outputs": [
    {
     "name": "stdout",
     "output_type": "stream",
     "text": [
      "<bound method DataFrame.ffill of         one       two     three\n",
      "a  1.302556 -0.125830 -1.507065\n",
      "b       NaN       NaN       NaN\n",
      "c  1.040650 -0.132073 -0.247143\n",
      "d  0.668526  0.047270 -1.701502\n",
      "e       NaN       NaN       NaN\n",
      "f  0.280216 -0.335370  1.377877>\n",
      "<bound method DataFrame.bfill of         one       two     three\n",
      "a  1.302556 -0.125830 -1.507065\n",
      "b       NaN       NaN       NaN\n",
      "c  1.040650 -0.132073 -0.247143\n",
      "d  0.668526  0.047270 -1.701502\n",
      "e       NaN       NaN       NaN\n",
      "f  0.280216 -0.335370  1.377877>\n"
     ]
    }
   ],
   "source": [
    "print(df.ffill)\n",
    "print(df.bfill)"
   ]
  },
  {
   "cell_type": "code",
   "execution_count": null,
   "id": "099f9bfd",
   "metadata": {},
   "outputs": [],
   "source": []
  }
 ],
 "metadata": {
  "kernelspec": {
   "display_name": "Python 3 (ipykernel)",
   "language": "python",
   "name": "python3"
  },
  "language_info": {
   "codemirror_mode": {
    "name": "ipython",
    "version": 3
   },
   "file_extension": ".py",
   "mimetype": "text/x-python",
   "name": "python",
   "nbconvert_exporter": "python",
   "pygments_lexer": "ipython3",
   "version": "3.11.3"
  }
 },
 "nbformat": 4,
 "nbformat_minor": 5
}
