{
 "cells": [
  {
   "cell_type": "code",
   "execution_count": 2,
   "id": "6ad49735",
   "metadata": {},
   "outputs": [
    {
     "name": "stdout",
     "output_type": "stream",
     "text": [
      "one\n",
      "\n",
      "two\n",
      "\n",
      "three\n",
      "\n"
     ]
    }
   ],
   "source": [
    "f=open(\"D:/data1.txt\",\"w\")\n",
    "f.write(\"one\\n\")\n",
    "f.write(\"two\\n\")\n",
    "f.write(\"three\\n\")\n",
    "f.close\n",
    "a=open(\"D:/data1.txt\",\"r\")\n",
    "print(a.readline())\n",
    "print(a.readline())\n",
    "print(a.readline())\n",
    "a.close()"
   ]
  },
  {
   "cell_type": "code",
   "execution_count": 4,
   "id": "0ffeb946",
   "metadata": {},
   "outputs": [
    {
     "name": "stdout",
     "output_type": "stream",
     "text": [
      "one\n",
      "two\n",
      "three\n",
      "five\n",
      "six\n",
      "\n"
     ]
    }
   ],
   "source": [
    "b=open(\"D:/data1.txt\",\"a\")\n",
    "b.write(\"five\\n\")\n",
    "b.write(\"six\\n\")\n",
    "b.close\n",
    "c=open(\"D:/data1.txt\",\"r\")\n",
    "print(c.read())\n",
    "c.close()"
   ]
  },
  {
   "cell_type": "code",
   "execution_count": 6,
   "id": "837c158f",
   "metadata": {},
   "outputs": [
    {
     "name": "stdout",
     "output_type": "stream",
     "text": [
      "['one\\n', 'two\\n', 'three\\n', 'five\\n', 'six\\n']\n"
     ]
    }
   ],
   "source": [
    "with open(\"D:/data1.txt\",\"r\") as file:\n",
    "    lines=file.readlines()\n",
    "    print(lines)"
   ]
  },
  {
   "cell_type": "code",
   "execution_count": null,
   "id": "7869c815",
   "metadata": {},
   "outputs": [],
   "source": []
  }
 ],
 "metadata": {
  "kernelspec": {
   "display_name": "Python 3 (ipykernel)",
   "language": "python",
   "name": "python3"
  },
  "language_info": {
   "codemirror_mode": {
    "name": "ipython",
    "version": 3
   },
   "file_extension": ".py",
   "mimetype": "text/x-python",
   "name": "python",
   "nbconvert_exporter": "python",
   "pygments_lexer": "ipython3",
   "version": "3.11.3"
  }
 },
 "nbformat": 4,
 "nbformat_minor": 5
}
