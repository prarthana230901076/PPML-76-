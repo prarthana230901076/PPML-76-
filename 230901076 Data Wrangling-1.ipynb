{
 "cells": [
  {
   "cell_type": "code",
   "execution_count": 1,
   "id": "239a6a43",
   "metadata": {},
   "outputs": [
    {
     "name": "stdout",
     "output_type": "stream",
     "text": [
      "DF1:\n",
      "   name  age\n",
      "0  Sai   20\n",
      "1  Sub   21\n",
      "2  Poo   22\n",
      "DF2:\n",
      "    qualified\n",
      "0       True\n",
      "1       True\n",
      "2      False\n",
      "Joining:\n",
      "   name  age  qualified\n",
      "0  Sai   20       True\n",
      "1  Sub   21       True\n",
      "2  Poo   22      False\n"
     ]
    }
   ],
   "source": [
    "import pandas as pd\n",
    "d1={\"name\":[\"Sai\",\"Sub\",\"Poo\"],\"age\":[20,21,22]}\n",
    "d2={\"qualified\":[True,True,False]}\n",
    "df1=pd.DataFrame(d1)\n",
    "print(\"DF1:\\n\",df1)\n",
    "df2=pd.DataFrame(d2)\n",
    "print(\"DF2:\\n\",df2)\n",
    "newdf=df1.join(df2)\n",
    "print(\"Joining:\\n\",newdf)"
   ]
  },
  {
   "cell_type": "code",
   "execution_count": 2,
   "id": "3851ed18",
   "metadata": {},
   "outputs": [
    {
     "name": "stdout",
     "output_type": "stream",
     "text": [
      "    0   1\n",
      "0  11  12\n",
      "1   3   4\n",
      "   0  1\n",
      "0  5  6\n",
      "1  7  8\n",
      "    0   1\n",
      "0  11  12\n",
      "1   3   4\n"
     ]
    }
   ],
   "source": [
    "df1=pd.DataFrame([[11,12],[3,4]])\n",
    "df2=pd.DataFrame([[5,6],[7,8]])\n",
    "def myfunc(a,b):\n",
    "    if(a.sum()>b.sum()):\n",
    "        return a\n",
    "    else:\n",
    "        return b\n",
    "print(df1)\n",
    "print(df2)\n",
    "print(df1.combine(df2,myfunc))"
   ]
  },
  {
   "cell_type": "code",
   "execution_count": 6,
   "id": "0eb6db07",
   "metadata": {},
   "outputs": [
    {
     "name": "stdout",
     "output_type": "stream",
     "text": [
      "DF1:\n",
      "   name  age\n",
      "0  Sai   20\n",
      "1  Sub   21\n",
      "2  Poo   22\n",
      "DF2:\n",
      "       name  age\n",
      "0     Yuvi   20\n",
      "1  Rithika   21\n",
      "2   Sanjay   22\n",
      "Left merge:\n",
      "   name_x  age name_y\n",
      "0    Sai   20    Sai\n",
      "1    Sub   21    Sub\n",
      "2    Poo   22    Poo\n",
      "right merge:\n",
      "   name_x  age   name_y\n",
      "0    Sai   20     Yuvi\n",
      "1    Sub   21  Rithika\n",
      "2    Poo   22   Sanjay\n"
     ]
    }
   ],
   "source": [
    "d1={\"name\":[\"Sai\",\"Sub\",\"Poo\"],\"age\":[20,21,22]}\n",
    "d2={\"name\":[\"Yuvi\",\"Rithika\",\"Sanjay\"],\"age\":[20,21,22]}\n",
    "df1=pd.DataFrame(d1)\n",
    "print(\"DF1:\\n\",df1)\n",
    "df2=pd.DataFrame(d2)\n",
    "print(\"DF2:\\n\",df2)\n",
    "newdf1=df1.merge(df1,on=\"age\")\n",
    "newdf2=df1.merge(df2,on=\"age\")\n",
    "print(\"Left merge:\\n\",newdf1)\n",
    "print(\"right merge:\\n\",newdf2)"
   ]
  },
  {
   "cell_type": "code",
   "execution_count": 10,
   "id": "6dc6d94d",
   "metadata": {},
   "outputs": [
    {
     "name": "stdout",
     "output_type": "stream",
     "text": [
      "  team  points  assists  rebounds\n",
      "0    A      90       12        56\n",
      "1    B      56       34        43\n",
      "2    C      78       23        55\n",
      "3    D      88       44        12\n",
      "\n",
      "Reshaped Data Frame:\n",
      "    team  variable  value\n",
      "0     A    points     90\n",
      "1     B    points     56\n",
      "2     C    points     78\n",
      "3     D    points     88\n",
      "4     A   assists     12\n",
      "5     B   assists     34\n",
      "6     C   assists     23\n",
      "7     D   assists     44\n",
      "8     A  rebounds     56\n",
      "9     B  rebounds     43\n",
      "10    C  rebounds     55\n",
      "11    D  rebounds     12\n"
     ]
    }
   ],
   "source": [
    "df=pd.DataFrame({\"team\":['A','B','C','D'],\"points\":[90,56,78,88],\"assists\":[12,34,23,44],\"rebounds\":[56,43,55,12]})\n",
    "print(df)\n",
    "df=pd.melt(df,id_vars=\"team\",value_vars=[\"points\",\"assists\",\"rebounds\"])\n",
    "print(\"\\nReshaped Data Frame:\\n\",df)"
   ]
  },
  {
   "cell_type": "code",
   "execution_count": null,
   "id": "67b0cf2d",
   "metadata": {},
   "outputs": [],
   "source": []
  }
 ],
 "metadata": {
  "kernelspec": {
   "display_name": "Python 3 (ipykernel)",
   "language": "python",
   "name": "python3"
  },
  "language_info": {
   "codemirror_mode": {
    "name": "ipython",
    "version": 3
   },
   "file_extension": ".py",
   "mimetype": "text/x-python",
   "name": "python",
   "nbconvert_exporter": "python",
   "pygments_lexer": "ipython3",
   "version": "3.11.3"
  }
 },
 "nbformat": 4,
 "nbformat_minor": 5
}
