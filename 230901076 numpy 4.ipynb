{
  "cells": [
    {
      "cell_type": "code",
      "execution_count": 17,
      "id": "57d7110b",
      "metadata": {
        "colab": {
          "base_uri": "https://localhost:8080/"
        },
        "id": "57d7110b",
        "outputId": "6f97e55a-d568-4afc-baac-bfbb03cd0873"
      },
      "outputs": [
        {
          "output_type": "stream",
          "name": "stdout",
          "text": [
            "[20 40 50 70 10]\n",
            "[6 2 9 7 1]\n",
            "[26 42 59 77 11]\n",
            "[14 38 41 63  9]\n",
            "[120  80 450 490  10]\n",
            "[ 3.33333333 20.          5.55555556 10.         10.        ]\n"
          ]
        }
      ],
      "source": [
        "import numpy as np\n",
        "arr1=[20,40,50,70,10]\n",
        "arr2=[6,2,9,7,1]\n",
        "a=np.array(arr1)\n",
        "b=np.array(arr2)\n",
        "print(a)\n",
        "print(b)\n",
        "print(a+b)\n",
        "print(a-b)\n",
        "print(a*b)\n",
        "print(a/b)"
      ]
    },
    {
      "cell_type": "code",
      "execution_count": 18,
      "id": "4a82d021",
      "metadata": {
        "colab": {
          "base_uri": "https://localhost:8080/"
        },
        "id": "4a82d021",
        "outputId": "37b3cc8c-d801-4107-b97e-6a1f85c06cfa"
      },
      "outputs": [
        {
          "output_type": "stream",
          "name": "stdout",
          "text": [
            "1150\n",
            "sclar value: 3\n",
            "array: [20 40 50 70 10]\n",
            "result: [ 60 120 150 210  30]\n"
          ]
        }
      ],
      "source": [
        "print(a.dot(b))\n",
        "sclr=3\n",
        "print(\"sclar value:\",sclr)\n",
        "print(\"array:\",a)\n",
        "print(\"result:\",a*sclr)"
      ]
    },
    {
      "cell_type": "code",
      "execution_count": 19,
      "id": "f3133fbd",
      "metadata": {
        "colab": {
          "base_uri": "https://localhost:8080/"
        },
        "id": "f3133fbd",
        "outputId": "27435b67-a820-423a-8d9c-fa305bdda6c0"
      },
      "outputs": [
        {
          "output_type": "stream",
          "name": "stdout",
          "text": [
            "[[1 6]\n",
            " [0 4]]\n"
          ]
        }
      ],
      "source": [
        "import numpy as np\n",
        "a=np.array([[10,20],[30,40]])\n",
        "b=np.array([[3,7],[5,9]])\n",
        "print(a%b)"
      ]
    },
    {
      "cell_type": "code",
      "execution_count": 20,
      "id": "953579ad",
      "metadata": {
        "colab": {
          "base_uri": "https://localhost:8080/"
        },
        "id": "953579ad",
        "outputId": "0c2bf54c-97b2-46cc-8122-3831c2326353"
      },
      "outputs": [
        {
          "output_type": "stream",
          "name": "stdout",
          "text": [
            "array: [10, 7, 2]\n",
            "array: [6, 5, 3]\n",
            "result: [4 2 5]\n"
          ]
        }
      ],
      "source": [
        "def my_func(X,Y):\n",
        "    if X>Y:\n",
        "        return X-Y\n",
        "    else:\n",
        "        return X+Y\n",
        "arr1=[10,7,2]\n",
        "arr2=[6,5,3]\n",
        "vect_func=np.vectorize(my_func)\n",
        "print(\"array:\",arr1)\n",
        "print(\"array:\",arr2)\n",
        "print(\"result:\",vect_func(arr1,arr2))"
      ]
    },
    {
      "cell_type": "code",
      "execution_count": 20,
      "id": "c6960473",
      "metadata": {
        "id": "c6960473"
      },
      "outputs": [],
      "source": []
    },
    {
      "cell_type": "code",
      "execution_count": 20,
      "id": "a81529fc",
      "metadata": {
        "id": "a81529fc"
      },
      "outputs": [],
      "source": []
    }
  ],
  "metadata": {
    "kernelspec": {
      "display_name": "Python 3 (ipykernel)",
      "language": "python",
      "name": "python3"
    },
    "language_info": {
      "codemirror_mode": {
        "name": "ipython",
        "version": 3
      },
      "file_extension": ".py",
      "mimetype": "text/x-python",
      "name": "python",
      "nbconvert_exporter": "python",
      "pygments_lexer": "ipython3",
      "version": "3.11.4"
    },
    "colab": {
      "provenance": []
    }
  },
  "nbformat": 4,
  "nbformat_minor": 5
}