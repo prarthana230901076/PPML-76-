{
 "cells": [
  {
   "cell_type": "code",
   "execution_count": 2,
   "id": "739f7f7f",
   "metadata": {},
   "outputs": [
    {
     "name": "stdout",
     "output_type": "stream",
     "text": [
      "       a  b  c\n",
      "one    1  2  3\n",
      "two    4  5  6\n",
      "three  7  8  9\n"
     ]
    }
   ],
   "source": [
    "import pandas as pd\n",
    "df=pd.DataFrame([[1,2,3],[4,5,6],[7,8,9]],index=['one','two','three'],columns=['a','b','c'])\n",
    "print(df)"
   ]
  },
  {
   "cell_type": "code",
   "execution_count": 4,
   "id": "37a5a460",
   "metadata": {},
   "outputs": [],
   "source": [
    "df.to_excel(\"D:\\\\sifra excel.xlsx\")\n"
   ]
  },
  {
   "cell_type": "code",
   "execution_count": 5,
   "id": "68502c2f",
   "metadata": {},
   "outputs": [],
   "source": [
    "df.to_excel(\"D:\\kiara excel.xlsx\")"
   ]
  },
  {
   "cell_type": "code",
   "execution_count": 6,
   "id": "7d00d5de",
   "metadata": {},
   "outputs": [],
   "source": [
    "df=pd.DataFrame([[10,20,30],[40,50,60],[70,80,90]],index=['four','five','six'],columns=['x','y','z'])\n",
    "df.to_excel(\"D:\\kiara excel.xlsx\",sheet_name=\"sheet_1\")"
   ]
  },
  {
   "cell_type": "code",
   "execution_count": 9,
   "id": "a8a0d045",
   "metadata": {},
   "outputs": [],
   "source": [
    "df=pd.DataFrame([[6,7],[1,2]],index=['a','b'],columns=['x','y'])\n",
    "df.to_excel(\"D:\\sifra excel.xlsx\",sheet_name=\"sheet_1\")"
   ]
  },
  {
   "cell_type": "code",
   "execution_count": 16,
   "id": "85c70e2f",
   "metadata": {},
   "outputs": [],
   "source": [
    "x=pd.read_excel(\"D:sifra excel.xlsx\")\n",
    "y=pd.read_excel(\"D:kiara excel.xlsx\")\n",
    "z=pd.concat([x,y])\n",
    "z.to_excel(\"D:ss excel.xlsx\")"
   ]
  },
  {
   "cell_type": "code",
   "execution_count": 17,
   "id": "fe3935cb",
   "metadata": {},
   "outputs": [
    {
     "name": "stdout",
     "output_type": "stream",
     "text": [
      "  Unnamed: 0   x   y     z\n",
      "1          b   1   2   NaN\n",
      "0          a   6   7   NaN\n",
      "0       four  10  20  30.0\n",
      "1       five  40  50  60.0\n",
      "2        six  70  80  90.0\n"
     ]
    }
   ],
   "source": [
    "df=z.sort_values([\"x\"])\n",
    "print(df)"
   ]
  },
  {
   "cell_type": "code",
   "execution_count": 18,
   "id": "52605d60",
   "metadata": {},
   "outputs": [],
   "source": [
    "df.to_excel(\"D:\\ss excel.xlsx\")"
   ]
  },
  {
   "cell_type": "code",
   "execution_count": 19,
   "id": "3470711e",
   "metadata": {},
   "outputs": [
    {
     "name": "stdout",
     "output_type": "stream",
     "text": [
      "  Unnamed: 0   x   y     z\n",
      "1          b   1   2   NaN\n",
      "0          a   6   7   NaN\n",
      "0       four  10  20  30.0\n",
      "1       five  40  50  60.0\n",
      "2        six  70  80  90.0\n"
     ]
    }
   ],
   "source": [
    "df=z.sort_values([\"y\"])\n",
    "print(df)"
   ]
  },
  {
   "cell_type": "code",
   "execution_count": 5,
   "id": "dc971263",
   "metadata": {},
   "outputs": [
    {
     "name": "stdout",
     "output_type": "stream",
     "text": [
      "   Unnamed: 0.1 Unnamed: 0   x   y     z\n",
      "0             1          b   1   2   NaN\n",
      "1             0          a   6   7   NaN\n",
      "2             0       four  10  20  30.0\n",
      "3             1       five  40  50  60.0\n",
      "4             2        six  70  80  90.0\n",
      "['Unnamed: 0.1', 'Unnamed: 0', 'x', 'y', 'z']\n",
      "5\n"
     ]
    }
   ],
   "source": [
    "import pandas as pd\n",
    "df=pd.read_excel(\"D:\\ss excel.xlsx\")\n",
    "print(df)\n",
    "print(list(df))\n",
    "print(format(len(df)))\n"
   ]
  },
  {
   "cell_type": "code",
   "execution_count": null,
   "id": "a89d1617",
   "metadata": {},
   "outputs": [],
   "source": []
  }
 ],
 "metadata": {
  "kernelspec": {
   "display_name": "Python 3 (ipykernel)",
   "language": "python",
   "name": "python3"
  },
  "language_info": {
   "codemirror_mode": {
    "name": "ipython",
    "version": 3
   },
   "file_extension": ".py",
   "mimetype": "text/x-python",
   "name": "python",
   "nbconvert_exporter": "python",
   "pygments_lexer": "ipython3",
   "version": "3.11.3"
  }
 },
 "nbformat": 4,
 "nbformat_minor": 5
}
