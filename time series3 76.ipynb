{
 "cells": [
  {
   "cell_type": "code",
   "execution_count": 1,
   "id": "82c2f449",
   "metadata": {},
   "outputs": [
    {
     "name": "stdout",
     "output_type": "stream",
     "text": [
      "Date Index \n",
      " 2011-01-02    1.608792\n",
      "2011-01-05   -1.201495\n",
      "2011-01-07    0.703039\n",
      "2011-01-08    1.020117\n",
      "2011-01-10   -0.779287\n",
      "2011-01-12   -1.626068\n",
      "dtype: float64\n"
     ]
    }
   ],
   "source": [
    "import pandas as pd\n",
    "import numpy as np\n",
    "from datetime import datetime\n",
    "\n",
    "#create a date variable that contains the dates\n",
    "dates = [datetime(2011, 1, 2),\n",
    "         datetime(2011, 1, 5),\n",
    "         datetime(2011, 1, 7),\n",
    "         datetime(2011, 1, 8),\n",
    "         datetime(2011, 1, 10),\n",
    "         datetime(2011, 1, 12)]\n",
    "\n",
    "#with this date object, create a series\n",
    "ts = pd.Series(np.random.randn(6), index=dates)\n",
    "print(\"Date Index \\n\",ts)\n"
   ]
  },
  {
   "cell_type": "code",
   "execution_count": 2,
   "id": "c5664620",
   "metadata": {},
   "outputs": [
    {
     "name": "stdout",
     "output_type": "stream",
     "text": [
      "\n",
      "Date Index alone from the series: \n",
      " DatetimeIndex(['2011-01-02', '2011-01-05', '2011-01-07', '2011-01-08',\n",
      "               '2011-01-10', '2011-01-12'],\n",
      "              dtype='datetime64[ns]', freq=None)\n"
     ]
    }
   ],
   "source": [
    "print(\"\\nDate Index alone from the series: \\n\",ts.index)\n"
   ]
  },
  {
   "cell_type": "code",
   "execution_count": 3,
   "id": "11c8acfb",
   "metadata": {},
   "outputs": [
    {
     "name": "stdout",
     "output_type": "stream",
     "text": [
      "\n",
      "Second index:\n",
      " 2011-01-07 00:00:00\n"
     ]
    }
   ],
   "source": [
    "stamp=ts.index[2]\n",
    "print(\"\\nSecond index:\\n\", stamp)\n"
   ]
  },
  {
   "cell_type": "code",
   "execution_count": 4,
   "id": "6f2c8a93",
   "metadata": {},
   "outputs": [
    {
     "name": "stdout",
     "output_type": "stream",
     "text": [
      "\n",
      "Daterange up to 1000 days:\n",
      " 2000-01-01    0.678870\n",
      "2000-01-02   -1.001068\n",
      "2000-01-03   -0.210329\n",
      "2000-01-04    0.437838\n",
      "2000-01-05    0.951426\n",
      "                ...   \n",
      "2002-09-22   -1.538937\n",
      "2002-09-23   -0.048439\n",
      "2002-09-24   -0.652143\n",
      "2002-09-25   -0.520490\n",
      "2002-09-26   -1.963496\n",
      "Freq: D, Length: 1000, dtype: float64\n"
     ]
    }
   ],
   "source": [
    "#play like a ball with long-times series\n",
    "longer_ts=pd.Series(np.random.randn(1000),\n",
    "                    index=pd.date_range(\"2000-01-01\",periods=1000))\n",
    "print(\"\\nDaterange up to 1000 days:\\n\",longer_ts)\n"
   ]
  },
  {
   "cell_type": "code",
   "execution_count": 5,
   "id": "5adc7af3",
   "metadata": {},
   "outputs": [
    {
     "name": "stdout",
     "output_type": "stream",
     "text": [
      "\n",
      "Date range-2001 year:\n",
      " 2001-01-01    1.271062\n",
      "2001-01-02   -0.382122\n",
      "2001-01-03   -0.504579\n",
      "2001-01-04    1.878268\n",
      "2001-01-05    1.777006\n",
      "                ...   \n",
      "2001-12-27   -0.798471\n",
      "2001-12-28   -0.623507\n",
      "2001-12-29   -0.544569\n",
      "2001-12-30    0.865780\n",
      "2001-12-31    1.820820\n",
      "Freq: D, Length: 365, dtype: float64\n"
     ]
    }
   ],
   "source": [
    "print(\"\\nDate range-2001 year:\\n\", longer_ts[\"2001\"])"
   ]
  },
  {
   "cell_type": "code",
   "execution_count": 6,
   "id": "6bcf0630",
   "metadata": {},
   "outputs": [
    {
     "name": "stdout",
     "output_type": "stream",
     "text": [
      "\n",
      "Date range-05 month 2001 year:\n",
      " 2001-05-01    1.668191\n",
      "2001-05-02    1.639963\n",
      "2001-05-03   -2.132073\n",
      "2001-05-04    1.671005\n",
      "2001-05-05   -0.384758\n",
      "2001-05-06    0.273049\n",
      "2001-05-07   -0.879770\n",
      "2001-05-08    0.871547\n",
      "2001-05-09   -0.186980\n",
      "2001-05-10   -0.181544\n",
      "2001-05-11    0.905021\n",
      "2001-05-12   -0.411107\n",
      "2001-05-13   -0.138012\n",
      "2001-05-14   -0.127497\n",
      "2001-05-15    1.126139\n",
      "2001-05-16    0.367703\n",
      "2001-05-17   -0.524851\n",
      "2001-05-18   -0.563734\n",
      "2001-05-19    0.840140\n",
      "2001-05-20    0.118619\n",
      "2001-05-21   -0.019447\n",
      "2001-05-22   -0.111036\n",
      "2001-05-23   -1.582026\n",
      "2001-05-24   -0.056656\n",
      "2001-05-25   -0.773751\n",
      "2001-05-26   -0.205309\n",
      "2001-05-27   -0.947729\n",
      "2001-05-28   -1.251521\n",
      "2001-05-29   -0.311717\n",
      "2001-05-30   -1.038632\n",
      "2001-05-31    0.169342\n",
      "Freq: D, dtype: float64\n"
     ]
    }
   ],
   "source": [
    "print(\"\\nDate range-05 month 2001 year:\\n\", longer_ts[\"2001-05\"])\n"
   ]
  },
  {
   "cell_type": "code",
   "execution_count": 7,
   "id": "0346c437",
   "metadata": {},
   "outputs": [
    {
     "name": "stdout",
     "output_type": "stream",
     "text": [
      "\n",
      "Date range-first few dates in 2000 year:\n",
      " 2000-01-01    0.678870\n",
      "2000-01-02   -1.001068\n",
      "2000-01-03   -0.210329\n",
      "2000-01-04    0.437838\n",
      "2000-01-05    0.951426\n",
      "Freq: D, dtype: float64\n"
     ]
    }
   ],
   "source": [
    "print(\"\\nDate range-first few dates in 2000 year:\\n\",longer_ts[\"2000\"].head())\n"
   ]
  },
  {
   "cell_type": "code",
   "execution_count": 8,
   "id": "5385cd48",
   "metadata": {},
   "outputs": [
    {
     "name": "stdout",
     "output_type": "stream",
     "text": [
      "\n",
      "Date range-first 15 dates in 02 month 2001 year:\n",
      " 2000-02-01   -1.977674\n",
      "2000-02-02   -2.612874\n",
      "2000-02-03    2.375662\n",
      "2000-02-04   -1.028931\n",
      "2000-02-05    1.214179\n",
      "2000-02-06   -1.603501\n",
      "2000-02-07   -0.758280\n",
      "2000-02-08    1.190526\n",
      "2000-02-09   -0.784247\n",
      "2000-02-10    1.163249\n",
      "2000-02-11    0.543012\n",
      "2000-02-12   -1.548177\n",
      "2000-02-13   -1.190382\n",
      "2000-02-14    1.500527\n",
      "2000-02-15    0.557940\n",
      "Freq: D, dtype: float64\n"
     ]
    }
   ],
   "source": [
    "print(\"\\nDate range-first 15 dates in 02 month 2001 year:\\n\",longer_ts[\"2000-02\"].head(15))\n"
   ]
  },
  {
   "cell_type": "code",
   "execution_count": 9,
   "id": "be96935c",
   "metadata": {},
   "outputs": [
    {
     "name": "stdout",
     "output_type": "stream",
     "text": [
      "\n",
      "Date range-rom 26-9-2001:\n",
      " 2000-09-26    0.064171\n",
      "2000-09-27    1.626293\n",
      "2000-09-28    0.800424\n",
      "2000-09-29   -0.640082\n",
      "2000-09-30    1.951694\n",
      "                ...   \n",
      "2002-09-22   -1.538937\n",
      "2002-09-23   -0.048439\n",
      "2002-09-24   -0.652143\n",
      "2002-09-25   -0.520490\n",
      "2002-09-26   -1.963496\n",
      "Freq: D, Length: 731, dtype: float64\n"
     ]
    }
   ],
   "source": [
    "print(\"\\nDate range-rom 26-9-2001:\\n\",longer_ts[datetime(2000,9,26):])\n"
   ]
  },
  {
   "cell_type": "code",
   "execution_count": 10,
   "id": "767205b1",
   "metadata": {},
   "outputs": [
    {
     "name": "stdout",
     "output_type": "stream",
     "text": [
      "\n",
      "Date range from 26-9-2001 to 25-9- 2002:\n",
      " 2001-09-26    1.690123\n",
      "2001-09-27    2.400782\n",
      "2001-09-28   -1.898203\n",
      "2001-09-29   -0.432453\n",
      "2001-09-30   -0.560253\n",
      "                ...   \n",
      "2002-09-21    2.908968\n",
      "2002-09-22   -1.538937\n",
      "2002-09-23   -0.048439\n",
      "2002-09-24   -0.652143\n",
      "2002-09-25   -0.520490\n",
      "Freq: D, Length: 365, dtype: float64\n"
     ]
    }
   ],
   "source": [
    "print(\"\\nDate range from 26-9-2001 to 25-9- 2002:\\n\",longer_ts[datetime(2001,9,26):datetime(2002,9,25)])"
   ]
  },
  {
   "cell_type": "code",
   "execution_count": null,
   "id": "16a34ae8",
   "metadata": {},
   "outputs": [],
   "source": []
  }
 ],
 "metadata": {
  "kernelspec": {
   "display_name": "Python 3 (ipykernel)",
   "language": "python",
   "name": "python3"
  },
  "language_info": {
   "codemirror_mode": {
    "name": "ipython",
    "version": 3
   },
   "file_extension": ".py",
   "mimetype": "text/x-python",
   "name": "python",
   "nbconvert_exporter": "python",
   "pygments_lexer": "ipython3",
   "version": "3.11.3"
  }
 },
 "nbformat": 4,
 "nbformat_minor": 5
}
